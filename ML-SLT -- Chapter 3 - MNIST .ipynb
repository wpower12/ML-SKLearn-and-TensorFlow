{
 "cells": [
  {
   "cell_type": "markdown",
   "metadata": {},
   "source": [
    "# Playing with MNIST\n",
    "We will get to play with the Hello World of datasets, the MNIST digit set.  \n",
    "\n",
    "Goals:\n",
    "* Download MNIST Data set\n",
    "* Binary Classifier\n",
    "* Performance Measures\n",
    "    * Cross Validation\n",
    "    * Confusion Matrix\n",
    "    * Precision/Recall Stats/Tradeoff\n",
    "* Multiclass Classifier\n",
    "* Error Analysis\n",
    "* Multilabel Classifier\n",
    "* Multioutput Classifier\n",
    "\n",
    "## Downloading the Data Set\n",
    "We split the data into data (X) and label (y) lists.  "
   ]
  },
  {
   "cell_type": "code",
   "execution_count": 1,
   "metadata": {},
   "outputs": [
    {
     "name": "stdout",
     "output_type": "stream",
     "text": [
      "{'data': array([[0, 0, 0, ..., 0, 0, 0],\n",
      "       [0, 0, 0, ..., 0, 0, 0],\n",
      "       [0, 0, 0, ..., 0, 0, 0],\n",
      "       ..., \n",
      "       [0, 0, 0, ..., 0, 0, 0],\n",
      "       [0, 0, 0, ..., 0, 0, 0],\n",
      "       [0, 0, 0, ..., 0, 0, 0]], dtype=uint8), 'target': array([ 0.,  0.,  0., ...,  9.,  9.,  9.]), 'COL_NAMES': ['label', 'data'], 'DESCR': 'mldata.org dataset: mnist-original'}\n"
     ]
    }
   ],
   "source": [
    "from sklearn.datasets import fetch_mldata\n",
    "mnist = fetch_mldata('MNIST original')\n",
    "print(mnist)\n",
    "\n",
    "X, y = mnist[\"data\"], mnist[\"target\"]"
   ]
  },
  {
   "cell_type": "markdown",
   "metadata": {},
   "source": [
    "To test, the text looks at a random digit, 36000.  We can turn the list of pixel values back into an array by reshaping.  The reshaped array can be plotted to see the original image of the digit."
   ]
  },
  {
   "cell_type": "code",
   "execution_count": 23,
   "metadata": {},
   "outputs": [
    {
     "data": {
      "image/png": "[encoded data removed]",
      "text/plain": [
       "<matplotlib.figure.Figure at 0x7f25c7503160>"
      ]
     },
     "metadata": {},
     "output_type": "display_data"
    }
   ],
   "source": [
    "%matplotlib inline\n",
    "import matplotlib\n",
    "import matplotlib.pyplot as plt\n",
    "\n",
    "def plot_digit(digit):\n",
    "    digit_reshaped = digit.reshape(28,28)\n",
    "    plt.imshow(digit_reshaped, cmap = matplotlib.cm.binary,\n",
    "        interpolation=\"nearest\")\n",
    "    plt.axis(\"off\")\n",
    "    plt.show()\n",
    "\n",
    "some_index = 36000\n",
    "some_digit = X[some_index]\n",
    "plot_digit(some_digit)"
   ]
  },
  {
   "cell_type": "markdown",
   "metadata": {},
   "source": [
    "Now we need to split this data set into training and testing sets.  The MNIST set comes presplit, 60k training followed by 10k testing.  We also shuffle the sets."
   ]
  },
  {
   "cell_type": "code",
   "execution_count": 3,
   "metadata": {
    "collapsed": true
   },
   "outputs": [],
   "source": [
    "import numpy as np\n",
    "\n",
    "X_train, X_test, y_train, y_test = X[:60000], X[60000:], y[:60000], y[60000:]  \n",
    "\n",
    "shuffle_index = np.random.permutation(60000)\n",
    "X_train, y_train = X_train[shuffle_index], y_train[shuffle_index]"
   ]
  },
  {
   "cell_type": "markdown",
   "metadata": {},
   "source": [
    "## Binary Classifier\n",
    "We start with a binary classifier, where we decide if an image has a set property or not.  In this case, our property is if the image is a 5 or not 5.  \n",
    "\n",
    "Python makes it easy to create a new target.  Now we want the label to be a 1 if the image is a 5, and 0 if not.  "
   ]
  },
  {
   "cell_type": "code",
   "execution_count": 4,
   "metadata": {
    "collapsed": true
   },
   "outputs": [],
   "source": [
    "y_train_5 = (y_train == 5) # New Training labels, 1 if 5, 0 if not\n",
    "y_test_5  = (y_test == 5)  # New labels for the test set"
   ]
  },
  {
   "cell_type": "markdown",
   "metadata": {},
   "source": [
    "To start, we will try out a **Stochastic Gradient Descent Classifier**."
   ]
  },
  {
   "cell_type": "code",
   "execution_count": 5,
   "metadata": {},
   "outputs": [
    {
     "data": {
      "text/plain": [
       "SGDClassifier(alpha=0.0001, average=False, class_weight=None, epsilon=0.1,\n",
       "       eta0=0.0, fit_intercept=True, l1_ratio=0.15,\n",
       "       learning_rate='optimal', loss='hinge', n_iter=5, n_jobs=1,\n",
       "       penalty='l2', power_t=0.5, random_state=42, shuffle=True, verbose=0,\n",
       "       warm_start=False)"
      ]
     },
     "execution_count": 5,
     "metadata": {},
     "output_type": "execute_result"
    }
   ],
   "source": [
    "from sklearn.linear_model import SGDClassifier\n",
    "\n",
    "sgd_clf = SGDClassifier(random_state=42)\n",
    "sgd_clf.fit(X_train, y_train_5)"
   ]
  },
  {
   "cell_type": "markdown",
   "metadata": {},
   "source": [
    "To test, we can try the model out on the digit we checked before."
   ]
  },
  {
   "cell_type": "code",
   "execution_count": 6,
   "metadata": {},
   "outputs": [
    {
     "data": {
      "text/plain": [
       "array([ True], dtype=bool)"
      ]
     },
     "execution_count": 6,
     "metadata": {},
     "output_type": "execute_result"
    }
   ],
   "source": [
    "sgd_clf.predict([some_digit])"
   ]
  },
  {
   "cell_type": "markdown",
   "metadata": {},
   "source": [
    "Yay!  That works, but lets look at some performance measures.  \n",
    "## Performance Measures\n",
    "\n",
    "### Cross Validation\n",
    "We should check the model by doing a k-folds cross validation.  This will give us an idea of how well the model is doing on its input, and try to measure some kind of overfitting.  "
   ]
  },
  {
   "cell_type": "code",
   "execution_count": 7,
   "metadata": {},
   "outputs": [
    {
     "data": {
      "text/plain": [
       "array([ 0.953  ,  0.96595,  0.95765])"
      ]
     },
     "execution_count": 7,
     "metadata": {},
     "output_type": "execute_result"
    }
   ],
   "source": [
    "from sklearn.model_selection import cross_val_score\n",
    "cross_val_score( sgd_clf, X_train, y_train_5, cv=3, scoring=\"accuracy\" )"
   ]
  },
  {
   "cell_type": "markdown",
   "metadata": {},
   "source": [
    "This looks good, but is not great when you consider that the data set is skewed.  Since only one tenth of our input is a 5, just guessing not-5 gets a model to 90% accuracy.  So an added 5% isn't great.\n",
    " \n",
    "This also highlights the uselessness of bare accuracy as ameasure of a models efficacy.  We can use other Methods to investigate the actual effectiveness.\n",
    "\n",
    "### Confusion Matrix\n",
    "A confusion matrix shows the true and false negatives and positives.  This gives a much better view of the efficacy.  In a perfect model, we would only have true positives and true negatives.  No 5's would be called not 5s and no not-5's would be called 5's."
   ]
  },
  {
   "cell_type": "code",
   "execution_count": 8,
   "metadata": {},
   "outputs": [
    {
     "data": {
      "text/plain": [
       "array([[53340,  1239],\n",
       "       [ 1229,  4192]])"
      ]
     },
     "execution_count": 8,
     "metadata": {},
     "output_type": "execute_result"
    }
   ],
   "source": [
    "from sklearn.model_selection import cross_val_predict\n",
    "from sklearn.metrics import confusion_matrix\n",
    "\n",
    "y_train_pred = cross_val_predict(sgd_clf, X_train, y_train_5, cv=3)\n",
    "confusion_matrix(y_train_5, y_train_pred)"
   ]
  },
  {
   "cell_type": "markdown",
   "metadata": {
    "collapsed": true
   },
   "source": [
    "This isn't great.  We have 1616 5's that were labeled not-5's, and we have 441 not-5's that were labeled as 5's. To further investigate these values, we can look at Precision and Recal statititics.  These encode the rates of false positives and negatives.  \n",
    "\n",
    "### Precision and Recall\n",
    "\n",
    "**Precision** is the rate of true positives to total positives (TP+FP).  How well we avoid false positives.\n",
    "\n",
    "**Recall** is the rate of true positives to the total number of actual positives, regardless of how they were classified (TP+FN).  How well we avoid false negatives.\n",
    "\n",
    "For both values, we would like numbers very close to 1.  We can combine both measures into one metric, the F_1 score.  The closer a models precision and recall values are, the closer f1 will be to 1. \n",
    "\n",
    "Later we will see that this highlights a tradeoff between these values.  Working to increase one typically decreases the other.  Implying there is an optimal location to selec depending on your problem.  "
   ]
  },
  {
   "cell_type": "code",
   "execution_count": 9,
   "metadata": {},
   "outputs": [
    {
     "name": "stdout",
     "output_type": "stream",
     "text": [
      "prec: 0.771865 \n",
      "recall: 0.773289 \n",
      "f1: 0.772576\n"
     ]
    }
   ],
   "source": [
    "from sklearn.metrics import precision_score, recall_score, f1_score\n",
    "\n",
    "p_score, r_score = precision_score(y_train_5, y_train_pred), recall_score(y_train_5, y_train_pred)\n",
    "f1_score = f1_score(y_train_5, y_train_pred)\n",
    "print( 'prec: {:f} \\nrecall: {:f} \\nf1: {:f}'.format( p_score, r_score, f1_score ) )"
   ]
  },
  {
   "cell_type": "markdown",
   "metadata": {},
   "source": [
    "### Takeaway\n",
    "It seems that for each type of classifier or regression we will have a selection of measures to use that fit the classifier or regression.  The job will be to learn what type of classifier to use, and then what type of performance measure to use.  The book also mentions the following topics, specific especially to binary classifiers:\n",
    "\n",
    "* Precision/Recall Curve - Plot the effect of changing the threshold value for the models decision function.  Increasing threshold increases precision, but lowers recall.  \n",
    "* Receiver Operating Characteristic Curve - Specific to binary classifiers.  true positive rate vs false positive rate.  Plotted over a range of threshol values.  Area under the curve == measure of effectiveness.  1 = perfect.\n",
    "\n",
    "## Multiclass Classification\n",
    "### Using Binary Classifiers\n",
    "There are many ways to use multiple binary classifiers to create a multi-class classifier.  \n",
    "* One-vs-All - Create a clasifier for each feature, then output the label for the classifier that returns the highest decision score.\n",
    "* One-vs-One - Create a classifier for each pair of features.  Then output the label for the feature that wins the most 'duels'. Requires O(n^2) classifiers, but each uses only a fraction of the training data.\n",
    "\n",
    "SKLearn automatically detects when a label set has multiple classes, and defaults to running a OvA classifier."
   ]
  },
  {
   "cell_type": "code",
   "execution_count": 10,
   "metadata": {},
   "outputs": [
    {
     "data": {
      "text/plain": [
       "array([ 5.])"
      ]
     },
     "execution_count": 10,
     "metadata": {},
     "output_type": "execute_result"
    }
   ],
   "source": [
    "# Using our classifier from before, but now with the full label set.\n",
    "sgd_clf.fit(X_train, y_train)\n",
    "sgd_clf.predict([some_digit])"
   ]
  },
  {
   "cell_type": "markdown",
   "metadata": {},
   "source": [
    "Note that the classifier now has 10 individual binary clasifiers under the hood.  We can even see the individual classifiers decision scores."
   ]
  },
  {
   "cell_type": "code",
   "execution_count": 11,
   "metadata": {},
   "outputs": [
    {
     "data": {
      "text/plain": [
       "array([[-234050.49270136, -434093.58331191, -367465.8454057 ,\n",
       "        -339818.75278841, -261896.88948718,   24082.83999573,\n",
       "        -777017.75478323, -266973.07685643, -658737.59554043,\n",
       "        -580588.55824341]])"
      ]
     },
     "execution_count": 11,
     "metadata": {},
     "output_type": "execute_result"
    }
   ],
   "source": [
    "some_scores = sgd_clf.decision_function([some_digit])\n",
    "some_scores"
   ]
  },
  {
   "cell_type": "markdown",
   "metadata": {},
   "source": [
    "We can test the error."
   ]
  },
  {
   "cell_type": "code",
   "execution_count": 12,
   "metadata": {},
   "outputs": [
    {
     "data": {
      "text/plain": [
       "array([ 0.87202559,  0.86414321,  0.79366905])"
      ]
     },
     "execution_count": 12,
     "metadata": {},
     "output_type": "execute_result"
    }
   ],
   "source": [
    "cross_val_score(sgd_clf, X_train, y_train, cv=3, scoring=\"accuracy\")"
   ]
  },
  {
   "cell_type": "markdown",
   "metadata": {},
   "source": [
    "Nice!  Random classifiers would have accuracies of about 10%.  So this is a good sign.  But we should also check the confusion matrix.  This could give us insight into how we could imrpove the model further. "
   ]
  },
  {
   "cell_type": "code",
   "execution_count": 13,
   "metadata": {},
   "outputs": [
    {
     "data": {
      "image/png": "[encoded data removed]",
      "text/plain": [
       "<matplotlib.figure.Figure at 0x7f258b822358>"
      ]
     },
     "metadata": {},
     "output_type": "display_data"
    }
   ],
   "source": [
    "y_train_pred = cross_val_predict(sgd_clf, X_train, y_train, cv=3)\n",
    "conf_mx = confusion_matrix(y_train, y_train_pred)\n",
    "\n",
    "plt.matshow(conf_mx, cmap=plt.cm.gray)\n",
    "plt.show()"
   ]
  },
  {
   "cell_type": "markdown",
   "metadata": {},
   "source": [
    "The darker an area, the lower the value of that element in the confusion matrix.  So the very light values along the diagonal correspond to the fact that our model is doing well at giving digits the right label.  \n",
    "\n",
    "We can get more information by looking at just the errors."
   ]
  },
  {
   "cell_type": "code",
   "execution_count": 14,
   "metadata": {},
   "outputs": [
    {
     "data": {
      "text/plain": [
       "<matplotlib.image.AxesImage at 0x7f258249ef98>"
      ]
     },
     "execution_count": 14,
     "metadata": {},
     "output_type": "execute_result"
    },
    {
     "data": {
      "image/png": "[encoded data removed]",
      "text/plain": [
       "<matplotlib.figure.Figure at 0x7f25824f0ef0>"
      ]
     },
     "metadata": {},
     "output_type": "display_data"
    }
   ],
   "source": [
    "row_sums = conf_mx.sum(axis=1, keepdims=True) # Get the number of each digit in the set by summing over rows\n",
    "norm_conf_mx = conf_mx/row_sums  # Normalize the old matrix by dividing by the number of that digit.  \n",
    "\n",
    "np.fill_diagonal(norm_conf_mx, 0) # This fills the diagonals with 0's, cause we dont care about the accurate results\n",
    "plt.matshow(norm_conf_mx, cmap=plt.cm.gray)"
   ]
  },
  {
   "cell_type": "markdown",
   "metadata": {},
   "source": [
    "The brighter the cell, the more often that error occurs.  We can see that the row for 8 is particularly bright, implying that the model often misclassifies 8's.\n",
    "\n",
    "We can get an idea of what the errors actually look like by plotting examples of confused labels."
   ]
  },
  {
   "cell_type": "code",
   "execution_count": 15,
   "metadata": {},
   "outputs": [
    {
     "data": {
      "image/png": "[encoded data removed]",
      "text/plain": [
       "<matplotlib.figure.Figure at 0x7f258245de10>"
      ]
     },
     "metadata": {},
     "output_type": "display_data"
    }
   ],
   "source": [
    "cl_a, cl_b = 3, 5\n",
    "X_aa = X_train[(y_train==cl_a)&(y_train_pred==cl_a)]\n",
    "X_ab = X_train[(y_train==cl_a)&(y_train_pred==cl_b)]\n",
    "X_ba = X_train[(y_train==cl_b)&(y_train_pred==cl_a)]\n",
    "X_bb = X_train[(y_train==cl_b)&(y_train_pred==cl_b)]\n",
    "\n",
    "def plot_digits(instances, images_per_row=10, **options):\n",
    "    size = 28\n",
    "    images_per_row = min(len(instances), images_per_row)\n",
    "    images = [instance.reshape(size,size) for instance in instances]\n",
    "    n_rows = (len(instances) - 1) // images_per_row + 1\n",
    "    row_images = []\n",
    "    n_empty = n_rows * images_per_row - len(instances)\n",
    "    images.append(np.zeros((size, size * n_empty)))\n",
    "    for row in range(n_rows):\n",
    "        rimages = images[row * images_per_row : (row + 1) * images_per_row]\n",
    "        row_images.append(np.concatenate(rimages, axis=1))\n",
    "    image = np.concatenate(row_images, axis=0)\n",
    "    plt.imshow(image, cmap = matplotlib.cm.binary, **options)\n",
    "    plt.axis(\"off\")\n",
    "            \n",
    "plt.figure(figsize=(8,8))\n",
    "plt.subplot(221); plot_digits(X_aa[:25], images_per_row=5)\n",
    "plt.subplot(222); plot_digits(X_ab[:25], images_per_row=5)\n",
    "plt.subplot(223); plot_digits(X_ba[:25], images_per_row=5)\n",
    "plt.subplot(224); plot_digits(X_bb[:25], images_per_row=5)\n",
    "plt.show()"
   ]
  },
  {
   "cell_type": "markdown",
   "metadata": {},
   "source": [
    "The first column shows images that had an orignal label of 3, the second column had a label of 5.  The first row shows images classified by the model as 3, and the second 5.  So our true positives are the main diagonal, and the off diagonal shows the misclasifications. \n",
    "\n",
    "### Multilabel Classification\n",
    "We can use classifiers that output more than one label.  In the previous techniques, we used multiple binary classifiers to get a measure of how likely a certain label pertained to the input. We then selected the 'best' of these values.\n",
    "\n",
    "In multilabel, the outputs can be categories that overlap, were above we were looking for a single best label out of a set, multilabe classification can output many labels that all pertain to the input.  \n",
    "\n",
    "For example, we could create test sets where we are looking to decide if an input is a large number (7,8,9) or an odd number.  So there are cases where neither label is appropriate (2,4), cases where only one is (1, 8), and cases where both are correct (7, 9). \n",
    "\n",
    "In this example, we use a K-Nearest-Neighbors classifier."
   ]
  },
  {
   "cell_type": "code",
   "execution_count": 16,
   "metadata": {},
   "outputs": [
    {
     "data": {
      "text/plain": [
       "KNeighborsClassifier(algorithm='auto', leaf_size=30, metric='minkowski',\n",
       "           metric_params=None, n_jobs=1, n_neighbors=5, p=2,\n",
       "           weights='uniform')"
      ]
     },
     "execution_count": 16,
     "metadata": {},
     "output_type": "execute_result"
    }
   ],
   "source": [
    "from sklearn.neighbors import KNeighborsClassifier\n",
    "\n",
    "y_train_large = (y_train >= 7)\n",
    "y_train_odd   = (y_train % 2 == 1)\n",
    "y_train_multilabel = np.c_[y_train_large, y_train_odd]\n",
    "\n",
    "knn_clf = KNeighborsClassifier()\n",
    "knn_clf.fit( X_train, y_train_multilabel )"
   ]
  },
  {
   "cell_type": "markdown",
   "metadata": {},
   "source": [
    "To test this out, we can give it our ol' sample digit."
   ]
  },
  {
   "cell_type": "code",
   "execution_count": 17,
   "metadata": {},
   "outputs": [
    {
     "data": {
      "text/plain": [
       "array([[False,  True]], dtype=bool)"
      ]
     },
     "execution_count": 17,
     "metadata": {},
     "output_type": "execute_result"
    }
   ],
   "source": [
    "knn_clf.predict([some_digit])"
   ]
  },
  {
   "cell_type": "markdown",
   "metadata": {},
   "source": [
    "The vector output says that the label \"large\" doesnt apply, and the label \"odd\" does.  Correct!\n",
    "\n",
    "#### Evaluating Model\n",
    "We can evaluate the model by computing the average of all F1 scores for KFolds across all labels."
   ]
  },
  {
   "cell_type": "code",
   "execution_count": 18,
   "metadata": {
    "collapsed": true
   },
   "outputs": [],
   "source": [
    "# y_train_knn_pred = cross_val_predict( knn_clf, X_train, y_train )\n",
    "# f1_score(y_train, y_train_knn_pred, average=\"macro\")"
   ]
  },
  {
   "cell_type": "markdown",
   "metadata": {},
   "source": [
    "### MultiOutput Classifier\n",
    "We can also train classifiers that produce more than one label, and this label can have a range of values.  This is a generalization of the multilabel classifier, where the labels had binary values.  \n",
    "\n",
    "To see why this is useful, we can consider an image.  This is just a list of pixels, or labels, each with a value, the grayscale value.  So we could conceive of a classifier that takes an image as an input, and outputs an image as a set of labels for pixels.  \n",
    "\n",
    "As an example, we will create a set of 'noisy' images by adding small random amounts to the input images, and using the originals as a target set.\n",
    "\n",
    "Then, the classifier will, hopefully, be able to take a noisy image as an input, and output a cleaned version.\n",
    "\n",
    "We then use another knn classifier to build the model."
   ]
  },
  {
   "cell_type": "code",
   "execution_count": 26,
   "metadata": {},
   "outputs": [
    {
     "data": {
      "text/plain": [
       "KNeighborsClassifier(algorithm='auto', leaf_size=30, metric='minkowski',\n",
       "           metric_params=None, n_jobs=1, n_neighbors=5, p=2,\n",
       "           weights='uniform')"
      ]
     },
     "execution_count": 26,
     "metadata": {},
     "output_type": "execute_result"
    }
   ],
   "source": [
    "\n",
    "\n",
    "noise = np.random.randint(0,100, (len(X_train), 784))\n",
    "X_train_noise = X_train + noise\n",
    "noise = np.random.randint(0,100, (len(X_test), 784))\n",
    "X_test_noise  = X_test + noise\n",
    "\n",
    "y_train_noise = X_train\n",
    "y_test_noise  = X_test\n",
    "# So now the X's are the noisy images, and the y's are the original, non noisy images.\n",
    "\n",
    "knn_clf.fit( X_train_noise, y_train_noise )"
   ]
  },
  {
   "cell_type": "markdown",
   "metadata": {},
   "source": [
    "Now we test it out!"
   ]
  },
  {
   "cell_type": "code",
   "execution_count": 28,
   "metadata": {},
   "outputs": [
    {
     "data": {
      "image/png": "[encoded data removed]",
      "text/plain": [
       "<matplotlib.figure.Figure at 0x7f2580a4a8d0>"
      ]
     },
     "metadata": {},
     "output_type": "display_data"
    },
    {
     "data": {
      "image/png": "[encoded data removed]",
      "text/plain": [
       "<matplotlib.figure.Figure at 0x7f2580a4a668>"
      ]
     },
     "metadata": {},
     "output_type": "display_data"
    }
   ],
   "source": [
    "some_index = 723\n",
    "dirty_digit = X_test_noise[some_index]\n",
    "clean_digit = knn_clf.predict([dirty_digit])\n",
    "plot_digit(dirty_digit)\n",
    "plot_digit(clean_digit)"
   ]
  },
  {
   "cell_type": "markdown",
   "metadata": {},
   "source": [
    "Holyfuckballs.  This thing works!!!!  We should evaluate, as per our ML checklist.  "
   ]
  },
  {
   "cell_type": "code",
   "execution_count": null,
   "metadata": {
    "collapsed": true
   },
   "outputs": [],
   "source": []
  }
 ],
 "metadata": {
  "kernelspec": {
   "display_name": "Python 3",
   "language": "python",
   "name": "python3"
  },
  "language_info": {
   "codemirror_mode": {
    "name": "ipython",
    "version": 3
   },
   "file_extension": ".py",
   "mimetype": "text/x-python",
   "name": "python",
   "nbconvert_exporter": "python",
   "pygments_lexer": "ipython3",
   "version": "3.5.2"
  }
 },
 "nbformat": 4,
 "nbformat_minor": 2
}
