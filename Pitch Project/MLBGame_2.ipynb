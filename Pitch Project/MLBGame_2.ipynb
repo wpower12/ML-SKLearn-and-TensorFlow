{
 "cells": [
  {
   "cell_type": "markdown",
   "metadata": {},
   "source": [
    "# Predicting the Next Pitch Type\n",
    "Using the [**mlbgame**](http://panz.io/mlbgame/) library, we can build a training set of pitch sequences. Then, we will use that to train an RNN to predict the next pitch given the previous pitches in an at bat. "
   ]
  },
  {
   "cell_type": "markdown",
   "metadata": {},
   "source": [
    "## Gathering Pitches\n",
    "We need to get the actual pitch sequences out of the MLB data.  So lets start by getting just the pitches from one game.  We get the events, then for each inning we can look at each at bat in the top and bottom of the inning.  \n",
    "\n",
    "Pitch mappings:\n",
    "\n",
    "* A - Changeup (CH)\n",
    "* B - Curveball (CU)\n",
    "* C - Cutter (FC)\n",
    "* D - Eephus (EP)\n",
    "* E - Forkball (FO)\n",
    "* F - Four-Seam Fastball (FF) - Seems to be a discrepency here.  Official site says FA. Other tutorials disagree.  Data uses FF.  Dont see any FA's.\n",
    "* G - Knuckleball (KN)\n",
    "* H - Knuckle-curve (KC)\n",
    "* I - Screwball (SC)\n",
    "* J - Sinker (SI)\n",
    "* K - Slider (SL)\n",
    "* L - Splitter (FS)\n",
    "* M - Two-Seam Fastball (FT)"
   ]
  },
  {
   "cell_type": "code",
   "execution_count": 103,
   "metadata": {
    "collapsed": true
   },
   "outputs": [],
   "source": [
    "import mlbgame\n",
    "import pickle\n",
    "import os\n",
    "\n",
    "pitch_dict = {\"CH\":\"A\", \n",
    "              \"CU\":\"B\", \n",
    "              \"FC\":\"C\", \n",
    "              \"EP\":\"D\", \n",
    "              \"FO\":\"E\", \n",
    "              \"FF\":\"F\", \n",
    "              \"KN\":\"G\", \n",
    "              \"KC\":\"H\", \n",
    "              \"SC\":\"I\", \n",
    "              \"SI\":\"J\", \n",
    "              \"SL\":\"K\", \n",
    "              \"FS\":\"L\", \n",
    "              \"FT\":\"M\",\n",
    "              \"PO\":\"\", # Not sure what these three are\n",
    "              \"IN\":\"\", # Weird\n",
    "              \"UN\":\"\", # Weird\n",
    "              \"\":\"\"}\n",
    "\n",
    "def get_pitch_seqs_from_game( game_id ):\n",
    "    pitches = []\n",
    "    events  = mlbgame.game_events(game_id)\n",
    "    for i in events:\n",
    "        inning = events[i]\n",
    "        pitch_str = \"\"\n",
    "        for ab in inning['top']+inning['bottom']:\n",
    "            for pitch in ab.pitches:\n",
    "                pitch_str += pitch_dict[ pitch.pitch_type ]\n",
    "        pitches.append(pitch_str)\n",
    "    return pitches"
   ]
  },
  {
   "cell_type": "markdown",
   "metadata": {},
   "source": [
    "We convert the pitch sequences to strings of single letter identifiers.  Note - I did this initially because I thought it would help putting the data into a network, but I dont think it was necessary.  I ended up making 1-hot vectors, so this is probably an unneeded extra step.\n",
    "\n",
    "Next is a method to abstract getting a set of pitch seqences from a list of games."
   ]
  },
  {
   "cell_type": "code",
   "execution_count": 4,
   "metadata": {
    "collapsed": true,
    "scrolled": true
   },
   "outputs": [],
   "source": [
    "def get_pitch_data_from_game_list( games ):\n",
    "    pitch_data = []\n",
    "    for game in games:\n",
    "        try:\n",
    "            pitch_data += get_pitch_seqs_from_game( game.game_id )\n",
    "        except:\n",
    "            print(\"error with game: \"+game.game_id)\n",
    "    return pitch_data"
   ]
  },
  {
   "cell_type": "markdown",
   "metadata": {
    "collapsed": true
   },
   "source": [
    "Lets see if we can get a few years of data.  Let's abstract away a method for loading data by year.  This is crude, but as long as we give it well behaved year identifiers we should be ok.  Make sure the ```pitch_data``` directory exists or you'll wait a long while to see an annoying error with open. "
   ]
  },
  {
   "cell_type": "code",
   "execution_count": 104,
   "metadata": {
    "collapsed": true
   },
   "outputs": [],
   "source": [
    "PITCH_DATA_DIR = \"pitch_data/\"\n",
    "def load_pitch_by_year( year ):\n",
    "    fname = PITCH_DATA_DIR+\"pitches_\"+str(year)+\".p\"\n",
    "    if os.path.isfile(fname):\n",
    "        pitch_data = pickle.load( open( fname, \"rb\") )\n",
    "    else:\n",
    "        year = mlbgame.games( year )\n",
    "        games = mlbgame.combine_games( year )\n",
    "        pitch_data = get_pitch_data_from_game_list( games )\n",
    "        pitch_data_clean = [s for s in pitch_data if s != ''] # Removes the empty atbats.  \n",
    "        pitch_data = pitch_data_clean\n",
    "        pickle.dump( pitch_data, open( fname, \"wb\" ) )\n",
    "    return pitch_data"
   ]
  },
  {
   "cell_type": "code",
   "execution_count": 10,
   "metadata": {},
   "outputs": [
    {
     "name": "stdout",
     "output_type": "stream",
     "text": [
      "error with game: 2016_03_22_tbamlb_cubint_1\n",
      "error with game: 2016_03_22_anamlb_slcaaa_1\n",
      "error with game: 2016_03_31_phimlb_pfsmin_1\n",
      "error with game: 2016_03_31_sdnmlb_elpaaa_1\n",
      "error with game: 2016_04_02_detmlb_atlmlb_1\n",
      "error with game: 2016_04_02_milmlb_blxaax_1\n",
      "error with game: 2016_04_04_houmlb_nyamlb_1\n",
      "error with game: 2016_04_04_bosmlb_clemlb_1\n",
      "error with game: 2016_04_09_miamlb_wasmlb_1\n",
      "error with game: 2016_04_10_nyamlb_detmlb_1\n",
      "error with game: 2016_04_17_balmlb_texmlb_1\n",
      "error with game: 2016_04_27_milmlb_chnmlb_1\n",
      "error with game: 2016_04_28_pitmlb_colmlb_1\n",
      "error with game: 2016_04_30_atlmlb_chnmlb_1\n",
      "error with game: 2016_05_16_bosmlb_kcamlb_1\n",
      "error with game: 2016_05_26_chamlb_kcamlb_1\n",
      "error with game: 2016_06_08_clemlb_seamlb_1\n",
      "error with game: 2016_09_25_atlmlb_miamlb_1\n",
      "error with game: 2016_10_03_clemlb_detmlb_1\n",
      "error with game: 2015_03_04_sdnmlb_seamlb_1\n",
      "error with game: 2015_03_06_sfnmlb_texmlb_1\n",
      "error with game: 2015_03_07_arimlb_seamlb_1\n",
      "error with game: 2015_03_07_cinmlb_kcamlb_1\n",
      "error with game: 2015_03_08_clemlb_texmlb_1\n",
      "error with game: 2015_03_08_colmlb_sdnmlb_1\n",
      "error with game: 2015_03_09_clemlb_seamlb_1\n",
      "error with game: 2015_03_09_oakmlb_texmlb_1\n",
      "error with game: 2015_03_09_cinmlb_colmlb_1\n",
      "error with game: 2015_03_10_chamlb_kcamlb_1\n",
      "error with game: 2015_03_11_sdnmlb_kcamlb_1\n",
      "error with game: 2015_03_13_chamlb_colmlb_1\n",
      "error with game: 2015_03_14_texmlb_sdnmlb_1\n",
      "error with game: 2015_03_14_seamlb_arimlb_1\n",
      "error with game: 2015_03_15_lanmlb_seamlb_1\n",
      "error with game: 2015_03_15_milmlb_texmlb_1\n",
      "error with game: 2015_03_15_kcamlb_colmlb_1\n",
      "error with game: 2015_03_16_clemlb_kcamlb_1\n",
      "error with game: 2015_03_17_lanmlb_texmlb_1\n",
      "error with game: 2015_03_17_milmlb_sdnmlb_1\n",
      "error with game: 2015_03_17_anamlb_colmlb_1\n",
      "error with game: 2015_03_18_milmlb_kcamlb_1\n",
      "error with game: 2015_03_18_sdnmlb_colmlb_1\n",
      "error with game: 2015_03_20_seamlb_texmlb_1\n",
      "error with game: 2015_03_20_oakmlb_colmlb_1\n",
      "error with game: 2015_03_21_arimlb_sdnmlb_1\n",
      "error with game: 2015_03_21_lanmlb_colmlb_1\n",
      "error with game: 2015_03_22_sfnmlb_kcamlb_1\n",
      "error with game: 2015_03_22_texmlb_seamlb_1\n",
      "error with game: 2015_03_23_slnmlb_bosmlb_1\n",
      "error with game: 2015_03_23_chamlb_sdnmlb_1\n",
      "error with game: 2015_03_23_cinmlb_texmlb_1\n",
      "error with game: 2015_03_25_sfnmlb_colmlb_1\n",
      "error with game: 2015_03_25_chnmlb_seamlb_1\n",
      "error with game: 2015_03_26_kcamlb_seamlb_1\n",
      "error with game: 2015_03_26_colmlb_texmlb_1\n",
      "error with game: 2015_03_27_seamlb_kcamlb_1\n",
      "error with game: 2015_03_28_sdnmlb_texmlb_1\n",
      "error with game: 2015_03_30_kcamlb_texmlb_1\n",
      "error with game: 2015_03_31_kcamlb_sdnmlb_1\n",
      "error with game: 2015_04_01_lanmlb_kcamlb_1\n",
      "error with game: 2015_04_01_chamlb_seamlb_1\n",
      "error with game: 2015_04_02_milmlb_sdnmlb_1\n",
      "error with game: 2015_04_02_chamlb_arimlb_1\n",
      "error with game: 2015_04_02_houmlb_coraax_1\n",
      "error with game: 2015_04_02_lanmlb_anamlb_1\n",
      "error with game: 2015_04_03_miamlb_gboafx_1\n",
      "error with game: 2015_04_03_chamlb_chraaa_1\n",
      "error with game: 2015_04_03_slnmlb_mrbaaa_1\n",
      "error with game: 2015_04_03_kcamlb_houmlb_1\n",
      "error with game: 2015_04_03_nynmlb_texmlb_1\n",
      "error with game: 2015_04_03_oakmlb_sfnmlb_1\n",
      "error with game: 2015_04_04_nyamlb_wasmlb_1\n",
      "error with game: 2015_04_04_pitmlb_phimlb_1\n",
      "error with game: 2015_04_04_miamlb_jaxaax_1\n",
      "error with game: 2015_04_04_nynmlb_texmlb_1\n",
      "error with game: 2015_04_04_chnmlb_arimlb_1\n",
      "error with game: 2015_04_07_slnmlb_chnmlb_1\n",
      "error with game: 2015_04_18_chamlb_detmlb_1\n",
      "error with game: 2015_04_23_kcamlb_chamlb_1\n",
      "error with game: 2015_04_25_kcamlb_chamlb_1\n",
      "error with game: 2015_04_26_sfnmlb_colmlb_1\n",
      "error with game: 2015_04_28_chamlb_balmlb_1\n",
      "error with game: 2015_05_03_oakmlb_texmlb_1\n",
      "error with game: 2015_05_12_slnmlb_clemlb_1\n",
      "error with game: 2015_05_30_kcamlb_chnmlb_1\n",
      "error with game: 2015_06_01_minmlb_bosmlb_1\n",
      "error with game: 2015_06_05_houmlb_tormlb_1\n",
      "error with game: 2015_06_10_houmlb_chamlb_1\n",
      "error with game: 2015_06_26_chamlb_detmlb_1\n",
      "error with game: 2015_06_26_cinmlb_nynmlb_1\n",
      "error with game: 2015_06_26_chnmlb_slnmlb_1\n",
      "error with game: 2015_06_27_chamlb_detmlb_1\n",
      "error with game: 2015_06_27_clemlb_balmlb_1\n",
      "error with game: 2015_09_12_detmlb_clemlb_1\n",
      "error with game: 2015_09_24_nynmlb_cinmlb_1\n",
      "error with game: 2015_09_29_slnmlb_pitmlb_1\n",
      "error with game: 2015_10_02_miamlb_phimlb_1\n",
      "error with game: 2015_10_02_nyamlb_balmlb_1\n",
      "error with game: 2015_10_02_wasmlb_nynmlb_1\n",
      "error with game: 2014_02_27_texmlb_kcamlb_1\n",
      "error with game: 2014_02_28_seamlb_sdnmlb_1\n",
      "error with game: 2014_03_01_clemlb_chamlb_1\n",
      "error with game: 2014_03_01_anamlb_seamlb_1\n",
      "error with game: 2014_03_01_sdnmlb_kcamlb_1\n",
      "error with game: 2014_03_01_chnmlb_arimlb_1\n",
      "error with game: 2014_03_02_chamlb_texmlb_1\n",
      "error with game: 2014_03_02_cinmlb_sdnmlb_1\n",
      "error with game: 2014_03_03_clemlb_texmlb_1\n",
      "error with game: 2014_03_03_colmlb_seamlb_1\n",
      "error with game: 2014_03_04_arimlb_sdnmlb_1\n",
      "error with game: 2014_03_04_cinmlb_kcamlb_1\n",
      "error with game: 2014_03_05_clemlb_seamlb_1\n",
      "error with game: 2014_03_05_colmlb_texmlb_1\n",
      "error with game: 2014_03_06_tbamlb_balmlb_1\n",
      "error with game: 2014_03_06_tormlb_pitmlb_1\n",
      "error with game: 2014_03_06_chamlb_kcamlb_1\n",
      "error with game: 2014_03_07_cinmlb_seamlb_1\n",
      "error with game: 2014_03_07_sfnmlb_kcamlb_1\n",
      "error with game: 2014_03_08_lanmlb_texmlb_1\n",
      "error with game: 2014_03_09_colmlb_kcamlb_1\n",
      "error with game: 2014_03_09_texmlb_seamlb_1\n",
      "error with game: 2014_03_10_kcamlb_seamlb_1\n",
      "error with game: 2014_03_11_lanmlb_kcamlb_1\n",
      "error with game: 2014_03_11_oakmlb_sdnmlb_1\n",
      "error with game: 2014_03_12_chnmlb_seamlb_1\n",
      "error with game: 2014_03_14_anamlb_sdnmlb_1\n",
      "error with game: 2014_03_14_oakmlb_kcamlb_1\n",
      "error with game: 2014_03_15_sfnmlb_seamlb_1\n",
      "error with game: 2014_03_16_kcamlb_sdnmlb_1\n",
      "error with game: 2014_03_17_colmlb_sdnmlb_1\n",
      "error with game: 2014_03_17_minmlb_balmlb_1\n",
      "error with game: 2014_03_17_texmlb_kcamlb_1\n",
      "error with game: 2014_03_18_sdnmlb_seamlb_1\n",
      "error with game: 2014_03_19_milmlb_seamlb_1\n",
      "error with game: 2014_03_20_lanmlb_ausint_1\n",
      "error with game: 2014_03_20_anamlb_kcamlb_1\n",
      "error with game: 2014_03_21_arimlb_ausint_1\n",
      "error with game: 2014_03_21_sdnmlb_seamlb_1\n",
      "error with game: 2014_03_22_chamlb_sdnmlb_1\n",
      "error with game: 2014_03_23_sdnmlb_texmlb_1\n",
      "error with game: 2014_03_25_seamlb_kcamlb_1\n",
      "error with game: 2014_03_25_chnmlb_sdnmlb_1\n",
      "error with game: 2014_03_26_kcamlb_sdnmlb_1\n",
      "error with game: 2014_03_27_quiaaa_texmlb_1\n",
      "error with game: 2014_03_28_chamlb_biraax_1\n",
      "error with game: 2014_03_28_cinmlb_penaax_1\n",
      "error with game: 2014_03_28_pitmlb_phimlb_1\n",
      "error with game: 2014_03_28_slnmlb_mrbaaa_1\n",
      "error with game: 2014_03_28_colmlb_seamlb_1\n",
      "error with game: 2014_03_28_anamlb_lanmlb_1\n",
      "error with game: 2014_03_29_pitmlb_phimlb_1\n",
      "error with game: 2014_03_29_kcamlb_milmlb_1\n",
      "error with game: 2014_03_29_balmlb_noraaa_1\n",
      "error with game: 2014_03_29_tbamlb_monaax_1\n",
      "error with game: 2014_03_29_cinmlb_louaaa_1\n",
      "error with game: 2014_03_29_chnmlb_arimlb_1\n",
      "error with game: 2014_03_30_vraaaa_houmlb_1\n",
      "error with game: 2014_04_07_milmlb_phimlb_1\n",
      "error with game: 2014_04_07_sdnmlb_clemlb_1\n",
      "error with game: 2014_04_13_houmlb_texmlb_1\n",
      "error with game: 2014_04_15_chnmlb_nyamlb_1\n",
      "error with game: 2014_04_15_clemlb_detmlb_1\n",
      "error with game: 2014_04_16_tormlb_minmlb_1\n",
      "error with game: 2014_04_26_tbamlb_chamlb_1\n",
      "error with game: 2014_04_27_detmlb_minmlb_1\n",
      "error with game: 2014_04_29_pitmlb_balmlb_1\n",
      "error with game: 2014_04_29_lanmlb_minmlb_1\n",
      "error with game: 2014_04_30_nynmlb_phimlb_1\n",
      "error with game: 2014_04_30_pitmlb_balmlb_1\n",
      "error with game: 2014_04_30_seamlb_nyamlb_1\n",
      "error with game: 2014_04_30_tbamlb_bosmlb_1\n",
      "error with game: 2014_05_16_pitmlb_nyamlb_1\n",
      "error with game: 2014_05_22_oakmlb_tbamlb_1\n",
      "error with game: 2014_06_03_tormlb_detmlb_1\n",
      "error with game: 2014_06_08_miamlb_chnmlb_1\n",
      "error with game: 2014_06_19_tormlb_nyamlb_1\n",
      "error with game: 2014_06_22_seamlb_kcamlb_1\n",
      "error with game: 2014_07_04_balmlb_bosmlb_1\n",
      "error with game: 2014_07_29_slnmlb_sdnmlb_1\n",
      "error with game: 2014_07_30_tormlb_bosmlb_1\n",
      "error with game: 2014_08_05_nynmlb_wasmlb_1\n",
      "error with game: 2014_08_10_nynmlb_phimlb_1\n",
      "error with game: 2014_08_12_nyamlb_balmlb_1\n",
      "error with game: 2014_08_17_tormlb_chamlb_1\n",
      "error with game: 2014_09_10_minmlb_clemlb_1\n",
      "error with game: 2014_09_12_minmlb_chamlb_1\n",
      "error with game: 2014_09_14_houmlb_anamlb_1\n"
     ]
    },
    {
     "name": "stdout",
     "output_type": "stream",
     "text": [
      "error with game: 2014_09_18_bosmlb_pitmlb_1\n",
      "error with game: 2014_09_18_wasmlb_miamlb_1\n",
      "error with game: 2014_10_03_kcamlb_anamlb_1\n",
      "error with game: 2014_10_07_lanmlb_slnmlb_1\n",
      "error with game: 2014_10_07_wasmlb_sfnmlb_1\n",
      "error with game: 2014_10_11_kcamlb_balmlb_1\n",
      "error with game: 2014_10_13_balmlb_kcamlb_1\n",
      "error with game: 2014_10_22_sfnmlb_kcamlb_1\n",
      "error with game: 2014_10_28_sfnmlb_kcamlb_1\n"
     ]
    }
   ],
   "source": [
    "# If the list of years contains a new year, this will take a WHILE.\n",
    "years_wanted = [2016, 2015, 2014]\n",
    "pitches_by_year = {}\n",
    "\n",
    "for y in years_wanted:\n",
    "    pitches_by_year[str(y)] = load_pitch_by_year(y)"
   ]
  },
  {
   "cell_type": "code",
   "execution_count": 15,
   "metadata": {},
   "outputs": [
    {
     "name": "stdout",
     "output_type": "stream",
     "text": [
      "year: 2016 count: 23561\n",
      "year: 2015 count: 23085\n",
      "year: 2014 count: 22781\n",
      "total: 69427\n"
     ]
    }
   ],
   "source": [
    "total = 0\n",
    "for y in years_wanted:\n",
    "    total += len(pitches_by_year[str(y)])\n",
    "    print( \"year: \"+str(y)+\" count: \"+str(len(pitches_by_year[str(y)])) )\n",
    "print(\"total: \"+str(total))"
   ]
  },
  {
   "cell_type": "markdown",
   "metadata": {},
   "source": [
    "Sweet.  Thats about 70k sequences to train off of.  To create a model, i'll need to know the longest sequence.  This will determine the 'length' of the RNN."
   ]
  },
  {
   "cell_type": "code",
   "execution_count": 105,
   "metadata": {},
   "outputs": [
    {
     "name": "stdout",
     "output_type": "stream",
     "text": [
      "KBKKAFKBFKFBMFKMMFFFKFKMMMKKMFKMMMAFKFMFAKMMMMFMBFBFFFFFKFFACCFBABCCJBAAJAJCJCAAFCACJKKKKFF len: 91\n",
      "MBFKABFKFKMMMBMMMFFKFAMMMMMABMFCFFCFFCFKFFKCFCFFFFHFFFFFHHFAFFFFFHAFFFAFHFFFFMAFMCCFFCMMBF len: 90\n",
      "FKFFFKFFFFKMMBKKJAMMBMMBMJJBMMMMJMBJMFFFBFAFFFBFFBAFFFAFFFBFAFBBFFFBFFFMKMMKKMKMMKKKKKKK len: 88\n"
     ]
    }
   ],
   "source": [
    "# I'll need to know the length of the longest sequence so I can size the time-step of the RNN.\n",
    "for y in years_wanted:\n",
    "    longest = max( pitches_by_year[str(y)], key=len )\n",
    "    print(longest + \" len: \" + str(len(longest)))"
   ]
  },
  {
   "cell_type": "markdown",
   "metadata": {},
   "source": [
    "## Building a Model\n",
    "First some convience functions to build a data set of one-hot vectors, and a method to get a training batch (along with its y values, and sequence lengths).  "
   ]
  },
  {
   "cell_type": "code",
   "execution_count": 185,
   "metadata": {
    "collapsed": true
   },
   "outputs": [],
   "source": [
    "import numpy as np\n",
    "import random\n",
    "\n",
    "VECTOR_SIZE   = 13 # Number of pitch types\n",
    "PAD_TO_LENGTH = 91 # Size of longest sequence\n",
    "pitch_char_dict = { \"A\":0,\n",
    "                    \"B\":1,\n",
    "                    \"C\":2,\n",
    "                    \"D\":3,\n",
    "                    \"E\":4,\n",
    "                    \"F\":5,\n",
    "                    \"G\":6,\n",
    "                    \"H\":7,\n",
    "                    \"I\":8,\n",
    "                    \"J\":9,\n",
    "                    \"K\":10,\n",
    "                    \"L\":11,\n",
    "                    \"M\":12}\n",
    "\n",
    "# Create 1-Hot vectors from data set\n",
    "def create_one_hot_series( seq ):\n",
    "    vectors = []\n",
    "    for char in seq:\n",
    "        v = [ 0.0 for i in range(VECTOR_SIZE)]\n",
    "        v[ pitch_char_dict[char] ] = 1.0\n",
    "        vectors.append(v)\n",
    "    for i in range( len(seq), PAD_TO_LENGTH ):\n",
    "        v = [ 0.0 for i in range(VECTOR_SIZE)]\n",
    "        vectors.append(v)\n",
    "    return vectors    \n",
    "\n",
    "# Grab a new randomized batch from the full data set.  Also returns the y labels, and the sequence lengths\n",
    "def get_training_batch( X_full, batch_size ):\n",
    "    random.shuffle( X_full )\n",
    "    X_batch = X_full[:batch_size] \n",
    "    seq_lens = [ len(s) for s in X_batch ]\n",
    "    y_batch = [ s[1:] for s in X_batch ]  # Shift the sequence to get a y\n",
    "    # Add empty pitch vector at end to keep the same shape as X\n",
    "    for seq in y_batch:\n",
    "        v = [ 0 for s in range(VECTOR_SIZE) ]\n",
    "        seq.append(v)\n",
    "    return np.asarray(X_batch), np.asarray(y_batch), np.asarray(seq_lens, dtype=np.int32)"
   ]
  },
  {
   "cell_type": "code",
   "execution_count": 174,
   "metadata": {
    "collapsed": true
   },
   "outputs": [],
   "source": [
    "# Build the actual data set.\n",
    "full_list = []\n",
    "for y in years_wanted:\n",
    "    full_list += pitches_by_year[str(y)]\n",
    "\n",
    "# TODO - Split this for validation\n",
    "X_full = []  # This will be the entire data set.  \n",
    "for seq in full_list:\n",
    "    X_full.append( create_one_hot_series( seq ) )"
   ]
  },
  {
   "cell_type": "code",
   "execution_count": 210,
   "metadata": {
    "collapsed": true
   },
   "outputs": [],
   "source": [
    "# Pitch Prediction Network\n",
    "import tensorflow as tf\n",
    "tf.reset_default_graph()\n",
    "\n",
    "# Construction Phase ###############\n",
    "NUM_INPUTS  = 13    # Size of the input vector (the number of possible pitch types)\n",
    "NUM_OUTPUTS = 13    # Want a pitch type out, so same size as input.\n",
    "NUM_NEURONS = 5     # Just a placeholder.  Its what the book uses for the sequence example \n",
    "NUM_STEPS   = 91    # Size of largest input sequence - So all training can fit.\n",
    "\n",
    "## Build Graph\n",
    "X = tf.placeholder( tf.float32, [None, NUM_STEPS, NUM_INPUTS] ) \n",
    "y = tf.placeholder( tf.float32, [None, NUM_STEPS, NUM_INPUTS] ) # X, but shifted to the left 1 element.\n",
    "seq_len = tf.placeholder( tf.int32, [None] ) # 1D Tensor to hold the length of each sequence in a batch\n",
    "\n",
    "basic_cell   = tf.contrib.rnn.BasicRNNCell( num_units=NUM_NEURONS )\n",
    "wrapped_cell = tf.contrib.rnn.OutputProjectionWrapper( basic_cell, output_size=NUM_OUTPUTS )\n",
    "\n",
    "outputs, states = tf.nn.dynamic_rnn( wrapped_cell, X, dtype=tf.float32, sequence_length=seq_len ) \n",
    "\n",
    "## Cost Function for Training\n",
    "LEARNING_RATE = 0.001\n",
    "loss        = tf.reduce_mean( tf.square( outputs-y ) )\n",
    "optimizer   = tf.train.AdamOptimizer( learning_rate=LEARNING_RATE )\n",
    "training_op = optimizer.minimize( loss )\n",
    "\n",
    "init = tf.global_variables_initializer()"
   ]
  },
  {
   "cell_type": "code",
   "execution_count": 211,
   "metadata": {},
   "outputs": [
    {
     "name": "stdout",
     "output_type": "stream",
     "text": [
      "0 \tMSE: 0.0357572\n",
      "100 \tMSE: 0.0258345\n",
      "200 \tMSE: 0.0220188\n",
      "300 \tMSE: 0.0213313\n",
      "400 \tMSE: 0.0197646\n",
      "500 \tMSE: 0.0197821\n",
      "600 \tMSE: 0.0198067\n"
     ]
    }
   ],
   "source": [
    "### Training Phase\n",
    "EPOCHS = 1\n",
    "BATCH_SIZE = 100\n",
    "NUM_ITERATIONS = int( len(X_full)/BATCH_SIZE )*EPOCHS\n",
    "\n",
    "with tf.Session() as sess:\n",
    "    init.run()\n",
    "    for iteration in range(NUM_ITERATIONS):\n",
    "        X_batch, y_batch, seq_lengths = get_training_batch( X_full, BATCH_SIZE )\n",
    "        sess.run( training_op, feed_dict={X: X_batch, y: y_batch, seq_len: seq_lengths})\n",
    "        if iteration % 100 == 0:\n",
    "            mse = loss.eval(feed_dict={X: X_batch, y: y_batch, seq_len: seq_lengths})\n",
    "            print(iteration, \"\\tMSE:\", mse)"
   ]
  },
  {
   "cell_type": "markdown",
   "metadata": {
    "collapsed": true
   },
   "source": [
    "## Evaluation"
   ]
  },
  {
   "cell_type": "code",
   "execution_count": 216,
   "metadata": {
    "collapsed": true
   },
   "outputs": [],
   "source": [
    "# Takes a sequence, encoded as 'AABCD' and predcits the next one.  \n",
    "def predict_pitch_from_seq( seq ):\n",
    "    seq_one_hot = create_one_hot_series( seq )\n",
    "    seq_tensor  = np.asarray( [seq_one_hot] )\n",
    "    len_tensor  = np.asarray( [len(seq)] , dtype=np.int32)\n",
    "    seq_y = tf.Session().run( outputs, feed_dict={ X:seq_tensor, seq_len:len_tensor})\n",
    "    print(seq_y)"
   ]
  },
  {
   "cell_type": "code",
   "execution_count": 221,
   "metadata": {},
   "outputs": [
    {
     "ename": "FailedPreconditionError",
     "evalue": "Attempting to use uninitialized value rnn/basic_rnn_cell/weights\n\t [[Node: rnn/basic_rnn_cell/weights/read = Identity[T=DT_FLOAT, _device=\"/job:localhost/replica:0/task:0/cpu:0\"](rnn/basic_rnn_cell/weights)]]\n\nCaused by op 'rnn/basic_rnn_cell/weights/read', defined at:\n  File \"/usr/local/Cellar/python3/3.6.1/Frameworks/Python.framework/Versions/3.6/lib/python3.6/runpy.py\", line 193, in _run_module_as_main\n    \"__main__\", mod_spec)\n  File \"/usr/local/Cellar/python3/3.6.1/Frameworks/Python.framework/Versions/3.6/lib/python3.6/runpy.py\", line 85, in _run_code\n    exec(code, run_globals)\n  File \"/Users/wpower/Documents/ML_Workspace/env/lib/python3.6/site-packages/ipykernel_launcher.py\", line 16, in <module>\n    app.launch_new_instance()\n  File \"/Users/wpower/Documents/ML_Workspace/env/lib/python3.6/site-packages/traitlets/config/application.py\", line 658, in launch_instance\n    app.start()\n  File \"/Users/wpower/Documents/ML_Workspace/env/lib/python3.6/site-packages/ipykernel/kernelapp.py\", line 477, in start\n    ioloop.IOLoop.instance().start()\n  File \"/Users/wpower/Documents/ML_Workspace/env/lib/python3.6/site-packages/zmq/eventloop/ioloop.py\", line 177, in start\n    super(ZMQIOLoop, self).start()\n  File \"/Users/wpower/Documents/ML_Workspace/env/lib/python3.6/site-packages/tornado/ioloop.py\", line 888, in start\n    handler_func(fd_obj, events)\n  File \"/Users/wpower/Documents/ML_Workspace/env/lib/python3.6/site-packages/tornado/stack_context.py\", line 277, in null_wrapper\n    return fn(*args, **kwargs)\n  File \"/Users/wpower/Documents/ML_Workspace/env/lib/python3.6/site-packages/zmq/eventloop/zmqstream.py\", line 440, in _handle_events\n    self._handle_recv()\n  File \"/Users/wpower/Documents/ML_Workspace/env/lib/python3.6/site-packages/zmq/eventloop/zmqstream.py\", line 472, in _handle_recv\n    self._run_callback(callback, msg)\n  File \"/Users/wpower/Documents/ML_Workspace/env/lib/python3.6/site-packages/zmq/eventloop/zmqstream.py\", line 414, in _run_callback\n    callback(*args, **kwargs)\n  File \"/Users/wpower/Documents/ML_Workspace/env/lib/python3.6/site-packages/tornado/stack_context.py\", line 277, in null_wrapper\n    return fn(*args, **kwargs)\n  File \"/Users/wpower/Documents/ML_Workspace/env/lib/python3.6/site-packages/ipykernel/kernelbase.py\", line 283, in dispatcher\n    return self.dispatch_shell(stream, msg)\n  File \"/Users/wpower/Documents/ML_Workspace/env/lib/python3.6/site-packages/ipykernel/kernelbase.py\", line 235, in dispatch_shell\n    handler(stream, idents, msg)\n  File \"/Users/wpower/Documents/ML_Workspace/env/lib/python3.6/site-packages/ipykernel/kernelbase.py\", line 399, in execute_request\n    user_expressions, allow_stdin)\n  File \"/Users/wpower/Documents/ML_Workspace/env/lib/python3.6/site-packages/ipykernel/ipkernel.py\", line 196, in do_execute\n    res = shell.run_cell(code, store_history=store_history, silent=silent)\n  File \"/Users/wpower/Documents/ML_Workspace/env/lib/python3.6/site-packages/ipykernel/zmqshell.py\", line 533, in run_cell\n    return super(ZMQInteractiveShell, self).run_cell(*args, **kwargs)\n  File \"/Users/wpower/Documents/ML_Workspace/env/lib/python3.6/site-packages/IPython/core/interactiveshell.py\", line 2698, in run_cell\n    interactivity=interactivity, compiler=compiler, result=result)\n  File \"/Users/wpower/Documents/ML_Workspace/env/lib/python3.6/site-packages/IPython/core/interactiveshell.py\", line 2802, in run_ast_nodes\n    if self.run_code(code, result):\n  File \"/Users/wpower/Documents/ML_Workspace/env/lib/python3.6/site-packages/IPython/core/interactiveshell.py\", line 2862, in run_code\n    exec(code_obj, self.user_global_ns, self.user_ns)\n  File \"<ipython-input-210-abc2bf8bc559>\", line 19, in <module>\n    outputs, states = tf.nn.dynamic_rnn( wrapped_cell, X, dtype=tf.float32, sequence_length=seq_len )\n  File \"/Users/wpower/Documents/ML_Workspace/env/lib/python3.6/site-packages/tensorflow/python/ops/rnn.py\", line 553, in dynamic_rnn\n    dtype=dtype)\n  File \"/Users/wpower/Documents/ML_Workspace/env/lib/python3.6/site-packages/tensorflow/python/ops/rnn.py\", line 720, in _dynamic_rnn_loop\n    swap_memory=swap_memory)\n  File \"/Users/wpower/Documents/ML_Workspace/env/lib/python3.6/site-packages/tensorflow/python/ops/control_flow_ops.py\", line 2623, in while_loop\n    result = context.BuildLoop(cond, body, loop_vars, shape_invariants)\n  File \"/Users/wpower/Documents/ML_Workspace/env/lib/python3.6/site-packages/tensorflow/python/ops/control_flow_ops.py\", line 2456, in BuildLoop\n    pred, body, original_loop_vars, loop_vars, shape_invariants)\n  File \"/Users/wpower/Documents/ML_Workspace/env/lib/python3.6/site-packages/tensorflow/python/ops/control_flow_ops.py\", line 2406, in _BuildLoop\n    body_result = body(*packed_vars_for_body)\n  File \"/Users/wpower/Documents/ML_Workspace/env/lib/python3.6/site-packages/tensorflow/python/ops/rnn.py\", line 703, in _time_step\n    skip_conditionals=True)\n  File \"/Users/wpower/Documents/ML_Workspace/env/lib/python3.6/site-packages/tensorflow/python/ops/rnn.py\", line 177, in _rnn_step\n    new_output, new_state = call_cell()\n  File \"/Users/wpower/Documents/ML_Workspace/env/lib/python3.6/site-packages/tensorflow/python/ops/rnn.py\", line 691, in <lambda>\n    call_cell = lambda: cell(input_t, state)\n  File \"/Users/wpower/Documents/ML_Workspace/env/lib/python3.6/site-packages/tensorflow/contrib/rnn/python/ops/core_rnn_cell_impl.py\", line 498, in __call__\n    output, res_state = self._cell(inputs, state)\n  File \"/Users/wpower/Documents/ML_Workspace/env/lib/python3.6/site-packages/tensorflow/contrib/rnn/python/ops/core_rnn_cell_impl.py\", line 122, in __call__\n    _linear([inputs, state], self._num_units, True))\n  File \"/Users/wpower/Documents/ML_Workspace/env/lib/python3.6/site-packages/tensorflow/contrib/rnn/python/ops/core_rnn_cell_impl.py\", line 1044, in _linear\n    _WEIGHTS_VARIABLE_NAME, [total_arg_size, output_size], dtype=dtype)\n  File \"/Users/wpower/Documents/ML_Workspace/env/lib/python3.6/site-packages/tensorflow/python/ops/variable_scope.py\", line 1049, in get_variable\n    use_resource=use_resource, custom_getter=custom_getter)\n  File \"/Users/wpower/Documents/ML_Workspace/env/lib/python3.6/site-packages/tensorflow/python/ops/variable_scope.py\", line 948, in get_variable\n    use_resource=use_resource, custom_getter=custom_getter)\n  File \"/Users/wpower/Documents/ML_Workspace/env/lib/python3.6/site-packages/tensorflow/python/ops/variable_scope.py\", line 356, in get_variable\n    validate_shape=validate_shape, use_resource=use_resource)\n  File \"/Users/wpower/Documents/ML_Workspace/env/lib/python3.6/site-packages/tensorflow/python/ops/variable_scope.py\", line 341, in _true_getter\n    use_resource=use_resource)\n  File \"/Users/wpower/Documents/ML_Workspace/env/lib/python3.6/site-packages/tensorflow/python/ops/variable_scope.py\", line 714, in _get_single_variable\n    validate_shape=validate_shape)\n  File \"/Users/wpower/Documents/ML_Workspace/env/lib/python3.6/site-packages/tensorflow/python/ops/variables.py\", line 197, in __init__\n    expected_shape=expected_shape)\n  File \"/Users/wpower/Documents/ML_Workspace/env/lib/python3.6/site-packages/tensorflow/python/ops/variables.py\", line 313, in _init_from_args\n    self._snapshot = array_ops.identity(self._variable, name=\"read\")\n  File \"/Users/wpower/Documents/ML_Workspace/env/lib/python3.6/site-packages/tensorflow/python/ops/gen_array_ops.py\", line 1338, in identity\n    result = _op_def_lib.apply_op(\"Identity\", input=input, name=name)\n  File \"/Users/wpower/Documents/ML_Workspace/env/lib/python3.6/site-packages/tensorflow/python/framework/op_def_library.py\", line 768, in apply_op\n    op_def=op_def)\n  File \"/Users/wpower/Documents/ML_Workspace/env/lib/python3.6/site-packages/tensorflow/python/framework/ops.py\", line 2336, in create_op\n    original_op=self._default_original_op, op_def=op_def)\n  File \"/Users/wpower/Documents/ML_Workspace/env/lib/python3.6/site-packages/tensorflow/python/framework/ops.py\", line 1228, in __init__\n    self._traceback = _extract_stack()\n\nFailedPreconditionError (see above for traceback): Attempting to use uninitialized value rnn/basic_rnn_cell/weights\n\t [[Node: rnn/basic_rnn_cell/weights/read = Identity[T=DT_FLOAT, _device=\"/job:localhost/replica:0/task:0/cpu:0\"](rnn/basic_rnn_cell/weights)]]\n",
     "output_type": "error",
     "traceback": [
      "\u001b[0;31m---------------------------------------------------------------------------\u001b[0m",
      "\u001b[0;31mFailedPreconditionError\u001b[0m                   Traceback (most recent call last)",
      "\u001b[0;32m~/Documents/ML_Workspace/env/lib/python3.6/site-packages/tensorflow/python/client/session.py\u001b[0m in \u001b[0;36m_do_call\u001b[0;34m(self, fn, *args)\u001b[0m\n\u001b[1;32m   1038\u001b[0m     \u001b[0;32mtry\u001b[0m\u001b[0;34m:\u001b[0m\u001b[0;34m\u001b[0m\u001b[0m\n\u001b[0;32m-> 1039\u001b[0;31m       \u001b[0;32mreturn\u001b[0m \u001b[0mfn\u001b[0m\u001b[0;34m(\u001b[0m\u001b[0;34m*\u001b[0m\u001b[0margs\u001b[0m\u001b[0;34m)\u001b[0m\u001b[0;34m\u001b[0m\u001b[0m\n\u001b[0m\u001b[1;32m   1040\u001b[0m     \u001b[0;32mexcept\u001b[0m \u001b[0merrors\u001b[0m\u001b[0;34m.\u001b[0m\u001b[0mOpError\u001b[0m \u001b[0;32mas\u001b[0m \u001b[0me\u001b[0m\u001b[0;34m:\u001b[0m\u001b[0;34m\u001b[0m\u001b[0m\n",
      "\u001b[0;32m~/Documents/ML_Workspace/env/lib/python3.6/site-packages/tensorflow/python/client/session.py\u001b[0m in \u001b[0;36m_run_fn\u001b[0;34m(session, feed_dict, fetch_list, target_list, options, run_metadata)\u001b[0m\n\u001b[1;32m   1020\u001b[0m                                  \u001b[0mfeed_dict\u001b[0m\u001b[0;34m,\u001b[0m \u001b[0mfetch_list\u001b[0m\u001b[0;34m,\u001b[0m \u001b[0mtarget_list\u001b[0m\u001b[0;34m,\u001b[0m\u001b[0;34m\u001b[0m\u001b[0m\n\u001b[0;32m-> 1021\u001b[0;31m                                  status, run_metadata)\n\u001b[0m\u001b[1;32m   1022\u001b[0m \u001b[0;34m\u001b[0m\u001b[0m\n",
      "\u001b[0;32m/usr/local/Cellar/python3/3.6.1/Frameworks/Python.framework/Versions/3.6/lib/python3.6/contextlib.py\u001b[0m in \u001b[0;36m__exit__\u001b[0;34m(self, type, value, traceback)\u001b[0m\n\u001b[1;32m     88\u001b[0m             \u001b[0;32mtry\u001b[0m\u001b[0;34m:\u001b[0m\u001b[0;34m\u001b[0m\u001b[0m\n\u001b[0;32m---> 89\u001b[0;31m                 \u001b[0mnext\u001b[0m\u001b[0;34m(\u001b[0m\u001b[0mself\u001b[0m\u001b[0;34m.\u001b[0m\u001b[0mgen\u001b[0m\u001b[0;34m)\u001b[0m\u001b[0;34m\u001b[0m\u001b[0m\n\u001b[0m\u001b[1;32m     90\u001b[0m             \u001b[0;32mexcept\u001b[0m \u001b[0mStopIteration\u001b[0m\u001b[0;34m:\u001b[0m\u001b[0;34m\u001b[0m\u001b[0m\n",
      "\u001b[0;32m~/Documents/ML_Workspace/env/lib/python3.6/site-packages/tensorflow/python/framework/errors_impl.py\u001b[0m in \u001b[0;36mraise_exception_on_not_ok_status\u001b[0;34m()\u001b[0m\n\u001b[1;32m    465\u001b[0m           \u001b[0mcompat\u001b[0m\u001b[0;34m.\u001b[0m\u001b[0mas_text\u001b[0m\u001b[0;34m(\u001b[0m\u001b[0mpywrap_tensorflow\u001b[0m\u001b[0;34m.\u001b[0m\u001b[0mTF_Message\u001b[0m\u001b[0;34m(\u001b[0m\u001b[0mstatus\u001b[0m\u001b[0;34m)\u001b[0m\u001b[0;34m)\u001b[0m\u001b[0;34m,\u001b[0m\u001b[0;34m\u001b[0m\u001b[0m\n\u001b[0;32m--> 466\u001b[0;31m           pywrap_tensorflow.TF_GetCode(status))\n\u001b[0m\u001b[1;32m    467\u001b[0m   \u001b[0;32mfinally\u001b[0m\u001b[0;34m:\u001b[0m\u001b[0;34m\u001b[0m\u001b[0m\n",
      "\u001b[0;31mFailedPreconditionError\u001b[0m: Attempting to use uninitialized value rnn/basic_rnn_cell/weights\n\t [[Node: rnn/basic_rnn_cell/weights/read = Identity[T=DT_FLOAT, _device=\"/job:localhost/replica:0/task:0/cpu:0\"](rnn/basic_rnn_cell/weights)]]",
      "\nDuring handling of the above exception, another exception occurred:\n",
      "\u001b[0;31mFailedPreconditionError\u001b[0m                   Traceback (most recent call last)",
      "\u001b[0;32m<ipython-input-221-f639d2cf1d3f>\u001b[0m in \u001b[0;36m<module>\u001b[0;34m()\u001b[0m\n\u001b[1;32m      1\u001b[0m \u001b[0ms\u001b[0m \u001b[0;34m=\u001b[0m \u001b[0;34m\"AAA\"\u001b[0m\u001b[0;34m\u001b[0m\u001b[0m\n\u001b[0;32m----> 2\u001b[0;31m \u001b[0mpredict_pitch_from_seq\u001b[0m\u001b[0;34m(\u001b[0m\u001b[0ms\u001b[0m\u001b[0;34m)\u001b[0m\u001b[0;34m\u001b[0m\u001b[0m\n\u001b[0m",
      "\u001b[0;32m<ipython-input-216-4cde67e45d58>\u001b[0m in \u001b[0;36mpredict_pitch_from_seq\u001b[0;34m(seq)\u001b[0m\n\u001b[1;32m      4\u001b[0m     \u001b[0mseq_tensor\u001b[0m  \u001b[0;34m=\u001b[0m \u001b[0mnp\u001b[0m\u001b[0;34m.\u001b[0m\u001b[0masarray\u001b[0m\u001b[0;34m(\u001b[0m \u001b[0;34m[\u001b[0m\u001b[0mseq_one_hot\u001b[0m\u001b[0;34m]\u001b[0m \u001b[0;34m)\u001b[0m\u001b[0;34m\u001b[0m\u001b[0m\n\u001b[1;32m      5\u001b[0m     \u001b[0mlen_tensor\u001b[0m  \u001b[0;34m=\u001b[0m \u001b[0mnp\u001b[0m\u001b[0;34m.\u001b[0m\u001b[0masarray\u001b[0m\u001b[0;34m(\u001b[0m \u001b[0;34m[\u001b[0m\u001b[0mlen\u001b[0m\u001b[0;34m(\u001b[0m\u001b[0mseq\u001b[0m\u001b[0;34m)\u001b[0m\u001b[0;34m]\u001b[0m \u001b[0;34m,\u001b[0m \u001b[0mdtype\u001b[0m\u001b[0;34m=\u001b[0m\u001b[0mnp\u001b[0m\u001b[0;34m.\u001b[0m\u001b[0mint32\u001b[0m\u001b[0;34m)\u001b[0m\u001b[0;34m\u001b[0m\u001b[0m\n\u001b[0;32m----> 6\u001b[0;31m     \u001b[0mseq_y\u001b[0m \u001b[0;34m=\u001b[0m \u001b[0mtf\u001b[0m\u001b[0;34m.\u001b[0m\u001b[0mSession\u001b[0m\u001b[0;34m(\u001b[0m\u001b[0;34m)\u001b[0m\u001b[0;34m.\u001b[0m\u001b[0mrun\u001b[0m\u001b[0;34m(\u001b[0m \u001b[0mstates\u001b[0m\u001b[0;34m,\u001b[0m \u001b[0mfeed_dict\u001b[0m\u001b[0;34m=\u001b[0m\u001b[0;34m{\u001b[0m \u001b[0mX\u001b[0m\u001b[0;34m:\u001b[0m\u001b[0mseq_tensor\u001b[0m\u001b[0;34m,\u001b[0m \u001b[0mseq_len\u001b[0m\u001b[0;34m:\u001b[0m\u001b[0mlen_tensor\u001b[0m\u001b[0;34m}\u001b[0m\u001b[0;34m)\u001b[0m\u001b[0;34m\u001b[0m\u001b[0m\n\u001b[0m\u001b[1;32m      7\u001b[0m     \u001b[0mprint\u001b[0m\u001b[0;34m(\u001b[0m\u001b[0mseq_y\u001b[0m\u001b[0;34m)\u001b[0m\u001b[0;34m\u001b[0m\u001b[0m\n",
      "\u001b[0;32m~/Documents/ML_Workspace/env/lib/python3.6/site-packages/tensorflow/python/client/session.py\u001b[0m in \u001b[0;36mrun\u001b[0;34m(self, fetches, feed_dict, options, run_metadata)\u001b[0m\n\u001b[1;32m    776\u001b[0m     \u001b[0;32mtry\u001b[0m\u001b[0;34m:\u001b[0m\u001b[0;34m\u001b[0m\u001b[0m\n\u001b[1;32m    777\u001b[0m       result = self._run(None, fetches, feed_dict, options_ptr,\n\u001b[0;32m--> 778\u001b[0;31m                          run_metadata_ptr)\n\u001b[0m\u001b[1;32m    779\u001b[0m       \u001b[0;32mif\u001b[0m \u001b[0mrun_metadata\u001b[0m\u001b[0;34m:\u001b[0m\u001b[0;34m\u001b[0m\u001b[0m\n\u001b[1;32m    780\u001b[0m         \u001b[0mproto_data\u001b[0m \u001b[0;34m=\u001b[0m \u001b[0mtf_session\u001b[0m\u001b[0;34m.\u001b[0m\u001b[0mTF_GetBuffer\u001b[0m\u001b[0;34m(\u001b[0m\u001b[0mrun_metadata_ptr\u001b[0m\u001b[0;34m)\u001b[0m\u001b[0;34m\u001b[0m\u001b[0m\n",
      "\u001b[0;32m~/Documents/ML_Workspace/env/lib/python3.6/site-packages/tensorflow/python/client/session.py\u001b[0m in \u001b[0;36m_run\u001b[0;34m(self, handle, fetches, feed_dict, options, run_metadata)\u001b[0m\n\u001b[1;32m    980\u001b[0m     \u001b[0;32mif\u001b[0m \u001b[0mfinal_fetches\u001b[0m \u001b[0;32mor\u001b[0m \u001b[0mfinal_targets\u001b[0m\u001b[0;34m:\u001b[0m\u001b[0;34m\u001b[0m\u001b[0m\n\u001b[1;32m    981\u001b[0m       results = self._do_run(handle, final_targets, final_fetches,\n\u001b[0;32m--> 982\u001b[0;31m                              feed_dict_string, options, run_metadata)\n\u001b[0m\u001b[1;32m    983\u001b[0m     \u001b[0;32melse\u001b[0m\u001b[0;34m:\u001b[0m\u001b[0;34m\u001b[0m\u001b[0m\n\u001b[1;32m    984\u001b[0m       \u001b[0mresults\u001b[0m \u001b[0;34m=\u001b[0m \u001b[0;34m[\u001b[0m\u001b[0;34m]\u001b[0m\u001b[0;34m\u001b[0m\u001b[0m\n",
      "\u001b[0;32m~/Documents/ML_Workspace/env/lib/python3.6/site-packages/tensorflow/python/client/session.py\u001b[0m in \u001b[0;36m_do_run\u001b[0;34m(self, handle, target_list, fetch_list, feed_dict, options, run_metadata)\u001b[0m\n\u001b[1;32m   1030\u001b[0m     \u001b[0;32mif\u001b[0m \u001b[0mhandle\u001b[0m \u001b[0;32mis\u001b[0m \u001b[0;32mNone\u001b[0m\u001b[0;34m:\u001b[0m\u001b[0;34m\u001b[0m\u001b[0m\n\u001b[1;32m   1031\u001b[0m       return self._do_call(_run_fn, self._session, feed_dict, fetch_list,\n\u001b[0;32m-> 1032\u001b[0;31m                            target_list, options, run_metadata)\n\u001b[0m\u001b[1;32m   1033\u001b[0m     \u001b[0;32melse\u001b[0m\u001b[0;34m:\u001b[0m\u001b[0;34m\u001b[0m\u001b[0m\n\u001b[1;32m   1034\u001b[0m       return self._do_call(_prun_fn, self._session, handle, feed_dict,\n",
      "\u001b[0;32m~/Documents/ML_Workspace/env/lib/python3.6/site-packages/tensorflow/python/client/session.py\u001b[0m in \u001b[0;36m_do_call\u001b[0;34m(self, fn, *args)\u001b[0m\n\u001b[1;32m   1050\u001b[0m         \u001b[0;32mexcept\u001b[0m \u001b[0mKeyError\u001b[0m\u001b[0;34m:\u001b[0m\u001b[0;34m\u001b[0m\u001b[0m\n\u001b[1;32m   1051\u001b[0m           \u001b[0;32mpass\u001b[0m\u001b[0;34m\u001b[0m\u001b[0m\n\u001b[0;32m-> 1052\u001b[0;31m       \u001b[0;32mraise\u001b[0m \u001b[0mtype\u001b[0m\u001b[0;34m(\u001b[0m\u001b[0me\u001b[0m\u001b[0;34m)\u001b[0m\u001b[0;34m(\u001b[0m\u001b[0mnode_def\u001b[0m\u001b[0;34m,\u001b[0m \u001b[0mop\u001b[0m\u001b[0;34m,\u001b[0m \u001b[0mmessage\u001b[0m\u001b[0;34m)\u001b[0m\u001b[0;34m\u001b[0m\u001b[0m\n\u001b[0m\u001b[1;32m   1053\u001b[0m \u001b[0;34m\u001b[0m\u001b[0m\n\u001b[1;32m   1054\u001b[0m   \u001b[0;32mdef\u001b[0m \u001b[0m_extend_graph\u001b[0m\u001b[0;34m(\u001b[0m\u001b[0mself\u001b[0m\u001b[0;34m)\u001b[0m\u001b[0;34m:\u001b[0m\u001b[0;34m\u001b[0m\u001b[0m\n",
      "\u001b[0;31mFailedPreconditionError\u001b[0m: Attempting to use uninitialized value rnn/basic_rnn_cell/weights\n\t [[Node: rnn/basic_rnn_cell/weights/read = Identity[T=DT_FLOAT, _device=\"/job:localhost/replica:0/task:0/cpu:0\"](rnn/basic_rnn_cell/weights)]]\n\nCaused by op 'rnn/basic_rnn_cell/weights/read', defined at:\n  File \"/usr/local/Cellar/python3/3.6.1/Frameworks/Python.framework/Versions/3.6/lib/python3.6/runpy.py\", line 193, in _run_module_as_main\n    \"__main__\", mod_spec)\n  File \"/usr/local/Cellar/python3/3.6.1/Frameworks/Python.framework/Versions/3.6/lib/python3.6/runpy.py\", line 85, in _run_code\n    exec(code, run_globals)\n  File \"/Users/wpower/Documents/ML_Workspace/env/lib/python3.6/site-packages/ipykernel_launcher.py\", line 16, in <module>\n    app.launch_new_instance()\n  File \"/Users/wpower/Documents/ML_Workspace/env/lib/python3.6/site-packages/traitlets/config/application.py\", line 658, in launch_instance\n    app.start()\n  File \"/Users/wpower/Documents/ML_Workspace/env/lib/python3.6/site-packages/ipykernel/kernelapp.py\", line 477, in start\n    ioloop.IOLoop.instance().start()\n  File \"/Users/wpower/Documents/ML_Workspace/env/lib/python3.6/site-packages/zmq/eventloop/ioloop.py\", line 177, in start\n    super(ZMQIOLoop, self).start()\n  File \"/Users/wpower/Documents/ML_Workspace/env/lib/python3.6/site-packages/tornado/ioloop.py\", line 888, in start\n    handler_func(fd_obj, events)\n  File \"/Users/wpower/Documents/ML_Workspace/env/lib/python3.6/site-packages/tornado/stack_context.py\", line 277, in null_wrapper\n    return fn(*args, **kwargs)\n  File \"/Users/wpower/Documents/ML_Workspace/env/lib/python3.6/site-packages/zmq/eventloop/zmqstream.py\", line 440, in _handle_events\n    self._handle_recv()\n  File \"/Users/wpower/Documents/ML_Workspace/env/lib/python3.6/site-packages/zmq/eventloop/zmqstream.py\", line 472, in _handle_recv\n    self._run_callback(callback, msg)\n  File \"/Users/wpower/Documents/ML_Workspace/env/lib/python3.6/site-packages/zmq/eventloop/zmqstream.py\", line 414, in _run_callback\n    callback(*args, **kwargs)\n  File \"/Users/wpower/Documents/ML_Workspace/env/lib/python3.6/site-packages/tornado/stack_context.py\", line 277, in null_wrapper\n    return fn(*args, **kwargs)\n  File \"/Users/wpower/Documents/ML_Workspace/env/lib/python3.6/site-packages/ipykernel/kernelbase.py\", line 283, in dispatcher\n    return self.dispatch_shell(stream, msg)\n  File \"/Users/wpower/Documents/ML_Workspace/env/lib/python3.6/site-packages/ipykernel/kernelbase.py\", line 235, in dispatch_shell\n    handler(stream, idents, msg)\n  File \"/Users/wpower/Documents/ML_Workspace/env/lib/python3.6/site-packages/ipykernel/kernelbase.py\", line 399, in execute_request\n    user_expressions, allow_stdin)\n  File \"/Users/wpower/Documents/ML_Workspace/env/lib/python3.6/site-packages/ipykernel/ipkernel.py\", line 196, in do_execute\n    res = shell.run_cell(code, store_history=store_history, silent=silent)\n  File \"/Users/wpower/Documents/ML_Workspace/env/lib/python3.6/site-packages/ipykernel/zmqshell.py\", line 533, in run_cell\n    return super(ZMQInteractiveShell, self).run_cell(*args, **kwargs)\n  File \"/Users/wpower/Documents/ML_Workspace/env/lib/python3.6/site-packages/IPython/core/interactiveshell.py\", line 2698, in run_cell\n    interactivity=interactivity, compiler=compiler, result=result)\n  File \"/Users/wpower/Documents/ML_Workspace/env/lib/python3.6/site-packages/IPython/core/interactiveshell.py\", line 2802, in run_ast_nodes\n    if self.run_code(code, result):\n  File \"/Users/wpower/Documents/ML_Workspace/env/lib/python3.6/site-packages/IPython/core/interactiveshell.py\", line 2862, in run_code\n    exec(code_obj, self.user_global_ns, self.user_ns)\n  File \"<ipython-input-210-abc2bf8bc559>\", line 19, in <module>\n    outputs, states = tf.nn.dynamic_rnn( wrapped_cell, X, dtype=tf.float32, sequence_length=seq_len )\n  File \"/Users/wpower/Documents/ML_Workspace/env/lib/python3.6/site-packages/tensorflow/python/ops/rnn.py\", line 553, in dynamic_rnn\n    dtype=dtype)\n  File \"/Users/wpower/Documents/ML_Workspace/env/lib/python3.6/site-packages/tensorflow/python/ops/rnn.py\", line 720, in _dynamic_rnn_loop\n    swap_memory=swap_memory)\n  File \"/Users/wpower/Documents/ML_Workspace/env/lib/python3.6/site-packages/tensorflow/python/ops/control_flow_ops.py\", line 2623, in while_loop\n    result = context.BuildLoop(cond, body, loop_vars, shape_invariants)\n  File \"/Users/wpower/Documents/ML_Workspace/env/lib/python3.6/site-packages/tensorflow/python/ops/control_flow_ops.py\", line 2456, in BuildLoop\n    pred, body, original_loop_vars, loop_vars, shape_invariants)\n  File \"/Users/wpower/Documents/ML_Workspace/env/lib/python3.6/site-packages/tensorflow/python/ops/control_flow_ops.py\", line 2406, in _BuildLoop\n    body_result = body(*packed_vars_for_body)\n  File \"/Users/wpower/Documents/ML_Workspace/env/lib/python3.6/site-packages/tensorflow/python/ops/rnn.py\", line 703, in _time_step\n    skip_conditionals=True)\n  File \"/Users/wpower/Documents/ML_Workspace/env/lib/python3.6/site-packages/tensorflow/python/ops/rnn.py\", line 177, in _rnn_step\n    new_output, new_state = call_cell()\n  File \"/Users/wpower/Documents/ML_Workspace/env/lib/python3.6/site-packages/tensorflow/python/ops/rnn.py\", line 691, in <lambda>\n    call_cell = lambda: cell(input_t, state)\n  File \"/Users/wpower/Documents/ML_Workspace/env/lib/python3.6/site-packages/tensorflow/contrib/rnn/python/ops/core_rnn_cell_impl.py\", line 498, in __call__\n    output, res_state = self._cell(inputs, state)\n  File \"/Users/wpower/Documents/ML_Workspace/env/lib/python3.6/site-packages/tensorflow/contrib/rnn/python/ops/core_rnn_cell_impl.py\", line 122, in __call__\n    _linear([inputs, state], self._num_units, True))\n  File \"/Users/wpower/Documents/ML_Workspace/env/lib/python3.6/site-packages/tensorflow/contrib/rnn/python/ops/core_rnn_cell_impl.py\", line 1044, in _linear\n    _WEIGHTS_VARIABLE_NAME, [total_arg_size, output_size], dtype=dtype)\n  File \"/Users/wpower/Documents/ML_Workspace/env/lib/python3.6/site-packages/tensorflow/python/ops/variable_scope.py\", line 1049, in get_variable\n    use_resource=use_resource, custom_getter=custom_getter)\n  File \"/Users/wpower/Documents/ML_Workspace/env/lib/python3.6/site-packages/tensorflow/python/ops/variable_scope.py\", line 948, in get_variable\n    use_resource=use_resource, custom_getter=custom_getter)\n  File \"/Users/wpower/Documents/ML_Workspace/env/lib/python3.6/site-packages/tensorflow/python/ops/variable_scope.py\", line 356, in get_variable\n    validate_shape=validate_shape, use_resource=use_resource)\n  File \"/Users/wpower/Documents/ML_Workspace/env/lib/python3.6/site-packages/tensorflow/python/ops/variable_scope.py\", line 341, in _true_getter\n    use_resource=use_resource)\n  File \"/Users/wpower/Documents/ML_Workspace/env/lib/python3.6/site-packages/tensorflow/python/ops/variable_scope.py\", line 714, in _get_single_variable\n    validate_shape=validate_shape)\n  File \"/Users/wpower/Documents/ML_Workspace/env/lib/python3.6/site-packages/tensorflow/python/ops/variables.py\", line 197, in __init__\n    expected_shape=expected_shape)\n  File \"/Users/wpower/Documents/ML_Workspace/env/lib/python3.6/site-packages/tensorflow/python/ops/variables.py\", line 313, in _init_from_args\n    self._snapshot = array_ops.identity(self._variable, name=\"read\")\n  File \"/Users/wpower/Documents/ML_Workspace/env/lib/python3.6/site-packages/tensorflow/python/ops/gen_array_ops.py\", line 1338, in identity\n    result = _op_def_lib.apply_op(\"Identity\", input=input, name=name)\n  File \"/Users/wpower/Documents/ML_Workspace/env/lib/python3.6/site-packages/tensorflow/python/framework/op_def_library.py\", line 768, in apply_op\n    op_def=op_def)\n  File \"/Users/wpower/Documents/ML_Workspace/env/lib/python3.6/site-packages/tensorflow/python/framework/ops.py\", line 2336, in create_op\n    original_op=self._default_original_op, op_def=op_def)\n  File \"/Users/wpower/Documents/ML_Workspace/env/lib/python3.6/site-packages/tensorflow/python/framework/ops.py\", line 1228, in __init__\n    self._traceback = _extract_stack()\n\nFailedPreconditionError (see above for traceback): Attempting to use uninitialized value rnn/basic_rnn_cell/weights\n\t [[Node: rnn/basic_rnn_cell/weights/read = Identity[T=DT_FLOAT, _device=\"/job:localhost/replica:0/task:0/cpu:0\"](rnn/basic_rnn_cell/weights)]]\n"
     ]
    }
   ],
   "source": [
    "s = \"AAA\"\n",
    "predict_pitch_from_seq(s)"
   ]
  },
  {
   "cell_type": "code",
   "execution_count": null,
   "metadata": {
    "collapsed": true
   },
   "outputs": [],
   "source": []
  }
 ],
 "metadata": {
  "kernelspec": {
   "display_name": "Python 3",
   "language": "python",
   "name": "python3"
  },
  "language_info": {
   "codemirror_mode": {
    "name": "ipython",
    "version": 3
   },
   "file_extension": ".py",
   "mimetype": "text/x-python",
   "name": "python",
   "nbconvert_exporter": "python",
   "pygments_lexer": "ipython3",
   "version": "3.6.1"
  }
 },
 "nbformat": 4,
 "nbformat_minor": 2
}
