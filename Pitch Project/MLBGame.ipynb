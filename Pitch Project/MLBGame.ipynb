{
 "cells": [
  {
   "cell_type": "markdown",
   "metadata": {},
   "source": [
    "# Predicting the Next Pitch Type\n",
    "Using the **mlbgame** library, we can build a training set of pitch sequences. Then, we will use that to train a Sequence to Sequence neural network to predict the next pitch given the previous pitches in an at bat. \n",
    "\n",
    "In this project, the predictions will be on an 'At Bat' basis.  That is, if you know the current set of pitches during an individual at bat, you will, hopefully, use this to predict the next one.  This simplifies the data collection, as the MLB game data is already split by at-bats. \n",
    "\n",
    "## Hello World\n",
    "First things first, we check that mlbgame is working.  Looks like it is.  "
   ]
  },
  {
   "cell_type": "code",
   "execution_count": 17,
   "metadata": {},
   "outputs": [
    {
     "name": "stdout",
     "output_type": "stream",
     "text": [
      "Giants (5) at Mets (0)\n",
      "Giants (8) at Mets (5)\n",
      "Giants (4) at Mets (5)\n",
      "Braves (3) at Mets (5)\n",
      "Braves (5) at Mets (3)\n",
      "Braves (8) at Mets (10)\n",
      "Blue Jays (3) at Mets (4)\n",
      "Blue Jays (2) at Mets (3)\n",
      "Reds (1) at Mets (2)\n",
      "Reds (1) at Mets (2)\n",
      "Reds (2) at Mets (7)\n",
      "Reds (1) at Mets (2)\n",
      "Cubs (1) at Mets (0)\n"
     ]
    }
   ],
   "source": [
    "from __future__ import print_function\n",
    "import mlbgame\n",
    "import random\n",
    "import pickle\n",
    "import os.path\n",
    "\n",
    "month = mlbgame.games(2015, 6, home=\"Mets\")\n",
    "games = mlbgame.combine_games(month)\n",
    "for game in games:\n",
    "    print(game)"
   ]
  },
  {
   "cell_type": "markdown",
   "metadata": {},
   "source": [
    "## Gathering Pitches\n",
    "We need to get the actual pitch sequences out of the MLB data.  So lets start by getting just the pitches from one game.  We get the events, then for each inning we can look at each at bat in the top and bottom of the inning.  \n",
    "\n",
    "Pitch mappings:\n",
    "\n",
    "* A - Changeup (CH)\n",
    "* B - Curveball (CU)\n",
    "* C - Cutter (FC)\n",
    "* D - Eephus (EP)\n",
    "* E - Forkball (FO)\n",
    "* F - Four-Seam Fastball (FF) - Seems to be a discrepency here.  Official site says FA. Other tutorials disagree.  Data uses FF.  Dont see any FA's.\n",
    "* G - Knuckleball (KN)\n",
    "* H - Knuckle-curve (KC)\n",
    "* I - Screwball (SC)\n",
    "* J - Sinker (SI)\n",
    "* K - Slider (SL)\n",
    "* L - Splitter (FS)\n",
    "* M - Two-Seam Fastball (FT)"
   ]
  },
  {
   "cell_type": "code",
   "execution_count": 18,
   "metadata": {
    "collapsed": true
   },
   "outputs": [],
   "source": [
    "pitch_dict = {\"CH\":\"A\", \n",
    "              \"CU\":\"B\", \n",
    "              \"FC\":\"C\", \n",
    "              \"EP\":\"D\", \n",
    "              \"FO\":\"E\", \n",
    "              \"FF\":\"F\", \n",
    "              \"KN\":\"G\", \n",
    "              \"KC\":\"H\", \n",
    "              \"SC\":\"I\", \n",
    "              \"SI\":\"J\", \n",
    "              \"SL\":\"K\", \n",
    "              \"FS\":\"L\", \n",
    "              \"FT\":\"M\",\n",
    "              \"PO\":\"\", # Not sure what these three are\n",
    "              \"IN\":\"\", # Weird\n",
    "              \"UN\":\"\", # Weird\n",
    "              \"\":\"\"}\n",
    "\n",
    "def get_pitch_seqs_from_game( game_id ):\n",
    "    pitches = []\n",
    "    events  = mlbgame.game_events(game_id)\n",
    "    for i in events:\n",
    "        inning = events[i]\n",
    "        pitch_str = \"\"\n",
    "        for ab in inning['top']+inning['bottom']:\n",
    "            for pitch in ab.pitches:\n",
    "                pitch_str += pitch_dict[ pitch.pitch_type ]\n",
    "        pitches.append(pitch_str)\n",
    "    return pitches"
   ]
  },
  {
   "cell_type": "code",
   "execution_count": 19,
   "metadata": {
    "scrolled": true
   },
   "outputs": [
    {
     "name": "stdout",
     "output_type": "stream",
     "text": [
      "BFBJFFFFJJFFFJKBKJBJBB\n",
      "BFKMAFMFAFJBJBABJJJBJBJJ\n",
      "HAFMHHHCKMMMMMHMFAKMKFKKJJBBJJJBBBJJBJ\n",
      "FAJJJBFBBAFJBAJBBJJAJJA\n",
      "BJBJJJFBBAJFFFBFJBBJBJFBFFJJAJJJAJBJJBBJJ\n",
      "FAMMMAFCMMMAJABAJBBJ\n",
      "FFJFFFFAJFAJJFFJBBJJBJJJJBJKJABJJJB\n",
      "JJAFJFABJJJBFFFFJJBJJKKJJJJFJ\n",
      "AAFBAAAAKBJJJJJJJJJJB\n"
     ]
    }
   ],
   "source": [
    "pitch_sequences = get_pitch_seqs_from_game( games[0].game_id )\n",
    "\n",
    "for seq in pitch_sequences:\n",
    "    print(seq)"
   ]
  },
  {
   "cell_type": "markdown",
   "metadata": {},
   "source": [
    "We convert the pitch sequences to strings of single letter identifiers.  This will simplify using the strings with an RNN. \n",
    "\n",
    "Now we can easily build a data set as large as we'd like by just grabbing games from date ranges, and passing them to the above method, all the while appending to a large data set collection.  Lets get pitch data from 5th month of 2016.  There are about 2000 games a year, so we should expect about $2000\\cdot2\\cdot9 = 36000$ entries in the data set."
   ]
  },
  {
   "cell_type": "code",
   "execution_count": 20,
   "metadata": {
    "collapsed": true,
    "scrolled": true
   },
   "outputs": [],
   "source": [
    "def get_pitch_data_from_game_list( games ):\n",
    "    pitch_data = []\n",
    "    for game in games:\n",
    "        try:\n",
    "            pitch_data += get_pitch_seqs_from_game( game.game_id )\n",
    "        except:\n",
    "            print(\"error with game: \"+game.game_id)\n",
    "    return pitch_data"
   ]
  },
  {
   "cell_type": "code",
   "execution_count": 13,
   "metadata": {
    "collapsed": true
   },
   "outputs": [],
   "source": [
    "fname = \"pitches.p\"\n",
    "if os.path.isfile(fname):\n",
    "    pitch_data = pickle.load( open( fname, \"rb\") )\n",
    "else:\n",
    "    year_2016 = mlbgame.games(2016)\n",
    "    games = mlbgame.combine_games(year_2016)\n",
    "    pitch_data = get_pitch_data_from_game_list( games )\n",
    "    pitch_data_clean = [s for s in pitch_data if s != '']\n",
    "    pitch_data = pitch_data_clean\n",
    "    pickle.dump( pitch_data, open( fname, \"wb\" ) )"
   ]
  },
  {
   "cell_type": "markdown",
   "metadata": {},
   "source": [
    "COOL!  Thats a good chunk of data.  Wooooo.  Not sure where the other errors come from, but we just except and move on.  Some of the lines are empty, due to either value or http execptions.  Cutting those out still leaves us with about 23k sequences.  Pickle is used to save us having to redownload.  If a different year or game set is to be loaded, simply delete the pitches.p file and rerun.  "
   ]
  },
  {
   "cell_type": "code",
   "execution_count": 15,
   "metadata": {},
   "outputs": [
    {
     "name": "stdout",
     "output_type": "stream",
     "text": [
      "number of instances: 23561\n",
      "random instance: FKBKKFBFBFKKFKFAFFKBBFKKKKBKKJKJ\n"
     ]
    }
   ],
   "source": [
    "print(\"number of instances: \"+str(len(pitch_data)))\n",
    "print(\"random instance: \"+pitch_data_clean[random.randint(0, len(pitch_data_clean))])"
   ]
  },
  {
   "cell_type": "markdown",
   "metadata": {
    "collapsed": true
   },
   "source": [
    "I WANT MORE DATA. NOMNOMNOM.  Lets see if we can get a few years of data.  Let's abstract away a method for loading data by year.  This is crude, but as long as we give it well behaved year identifiers we should be ok.  "
   ]
  },
  {
   "cell_type": "code",
   "execution_count": 21,
   "metadata": {
    "collapsed": true
   },
   "outputs": [],
   "source": [
    "def load_pitch_by_year( year ):\n",
    "    fname = \"pitches_\"+str(year)+\".p\"\n",
    "    if os.path.isfile(fname):\n",
    "        pitch_data = pickle.load( open( fname, \"rb\") )\n",
    "    else:\n",
    "        year = mlbgame.games( year )\n",
    "        games = mlbgame.combine_games( year )\n",
    "        pitch_data = get_pitch_data_from_game_list( games )\n",
    "        pitch_data_clean = [s for s in pitch_data if s != '']\n",
    "        pitch_data = pitch_data_clean\n",
    "        pickle.dump( pitch_data, open( fname, \"wb\" ) )\n",
    "    return pitch_data"
   ]
  },
  {
   "cell_type": "code",
   "execution_count": null,
   "metadata": {
    "collapsed": true
   },
   "outputs": [],
   "source": [
    "# If the list of years contains a new year, this will take a WHILE.\n",
    "years_wanted = [2016, 2015, 2014]\n",
    "pitches_by_year = {}\n",
    "\n",
    "for y in years_wanted:\n",
    "    pitches_by_year[str(y)] = load_pitch_by_year(y)"
   ]
  }
 ],
 "metadata": {
  "kernelspec": {
   "display_name": "Python 3",
   "language": "python",
   "name": "python3"
  },
  "language_info": {
   "codemirror_mode": {
    "name": "ipython",
    "version": 3
   },
   "file_extension": ".py",
   "mimetype": "text/x-python",
   "name": "python",
   "nbconvert_exporter": "python",
   "pygments_lexer": "ipython3",
   "version": "3.5.2"
  }
 },
 "nbformat": 4,
 "nbformat_minor": 2
}
